{
 "cells": [
  {
   "cell_type": "markdown",
   "metadata": {},
   "source": [
    "# Consult IT - preliminary elimination\n",
    "## Team members (*Fratelli*):\n",
    "1. Wiktor Jakubowski\n",
    "2. Luca Nowosielski"
   ]
  },
  {
   "cell_type": "code",
   "execution_count": 1,
   "metadata": {},
   "outputs": [],
   "source": [
    "import pandas as pd\n",
    "from sklearn.compose import ColumnTransformer\n",
    "from sklearn.pipeline import Pipeline\n",
    "from sklearn.preprocessing import OneHotEncoder, OrdinalEncoder, KBinsDiscretizer\n",
    "from sklearn.cluster import AgglomerativeClustering"
   ]
  },
  {
   "cell_type": "code",
   "execution_count": 2,
   "metadata": {},
   "outputs": [],
   "source": [
    "# load data\n",
    "data = pd.read_excel('Baza_uczniów_CIT_2024.xlsx')\n",
    "data.drop(['Imię', 'L.P.'], axis=1, inplace=True)"
   ]
  },
  {
   "cell_type": "code",
   "execution_count": 3,
   "metadata": {},
   "outputs": [
    {
     "data": {
      "text/plain": [
       "Płeć                     0\n",
       "Wiek                     0\n",
       "Język                    0\n",
       "Poziom                   0\n",
       "Hobby                    0\n",
       "Typ prowadzenia zajęć    0\n",
       "dtype: int64"
      ]
     },
     "execution_count": 3,
     "metadata": {},
     "output_type": "execute_result"
    }
   ],
   "source": [
    "# check for missing values - there is none\n",
    "data.isna().sum()"
   ]
  },
  {
   "cell_type": "code",
   "execution_count": 4,
   "metadata": {},
   "outputs": [],
   "source": [
    "### operations for categorical columns with order or binary values\n",
    "ord_pipeline = Pipeline(steps=[\n",
    "    ('encode', OrdinalEncoder(handle_unknown='use_encoded_value', unknown_value=-1)),\n",
    "])\n",
    "\n",
    "### operations for categorical unordered columns\n",
    "cat_pipeline = Pipeline(steps=[\n",
    "    ('encode', OneHotEncoder(handle_unknown='ignore'))\n",
    "])\n",
    "\n",
    "### operations for numerical columns\n",
    "num_pipeline = Pipeline(steps=[\n",
    "    ('discretize', KBinsDiscretizer(n_bins=3, encode='ordinal', strategy='uniform'))\n",
    "])\n",
    "\n",
    "# Column transformer\n",
    "col_trans = ColumnTransformer(transformers=[\n",
    "    ('ord_pipeline', ord_pipeline, ['Płeć', 'Typ prowadzenia zajęć', 'Poziom']),\n",
    "    ('cat_pipeline', cat_pipeline, ['Język', 'Hobby']),\n",
    "    ('num_pipeline', num_pipeline, ['Wiek'])\n",
    "],\n",
    "remainder='drop',\n",
    "n_jobs=-1)\n",
    "\n",
    "# hierarchical clustering at the end of the pipeline (limit as desired number of people in the group)\n",
    "model_pipeline = Pipeline([\n",
    "    ('preprocessing', col_trans),\n",
    "    # ('clustering', AgglomerativeClustering(metric='euclidean', linkage='ward'))\n",
    "])"
   ]
  },
  {
   "cell_type": "code",
   "execution_count": 5,
   "metadata": {},
   "outputs": [],
   "source": [
    "# preprocess data\n",
    "data_preprocessed = model_pipeline.fit_transform(data)\n",
    "\n",
    "# convert compressed data to numpy array\n",
    "decompressed_data = data_preprocessed.toarray()\n"
   ]
  }
 ],
 "metadata": {
  "kernelspec": {
   "display_name": "consultit",
   "language": "python",
   "name": "python3"
  },
  "language_info": {
   "codemirror_mode": {
    "name": "ipython",
    "version": 3
   },
   "file_extension": ".py",
   "mimetype": "text/x-python",
   "name": "python",
   "nbconvert_exporter": "python",
   "pygments_lexer": "ipython3",
   "version": "3.10.13"
  }
 },
 "nbformat": 4,
 "nbformat_minor": 2
}
